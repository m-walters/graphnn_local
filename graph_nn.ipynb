{
 "cells": [
  {
   "cell_type": "code",
   "execution_count": 13,
   "metadata": {
    "cellView": "both",
    "colab": {
     "base_uri": "https://localhost:8080/",
     "height": 321
    },
    "colab_type": "code",
    "collapsed": true,
    "id": "ww1nT7Ddydrk",
    "outputId": "76b6fb7d-8cd3-4864-a18e-ef25af8223e9"
   },
   "outputs": [],
   "source": [
    "from __future__ import absolute_import\n",
    "from __future__ import division\n",
    "from __future__ import print_function\n",
    "\n",
    "from graph_nets import blocks\n",
    "from graph_nets import graphs\n",
    "from graph_nets import modules\n",
    "from graph_nets import utils_np\n",
    "from graph_nets import utils_tf\n",
    "from graph_nets.demos.models import EncodeProcessDecode as EPD\n",
    "\n",
    "import matplotlib.pyplot as plt\n",
    "import networkx as nx\n",
    "import numpy as np\n",
    "import sonnet as snt\n",
    "import tensorflow as tf\n",
    "import h5py\n",
    "from progressbar import progressbar\n",
    "import matplotlib.pyplot as plt\n",
    "%matplotlib inline"
   ]
  },
  {
   "cell_type": "markdown",
   "metadata": {},
   "source": [
    "Useful reference on using Sonnet:  \n",
    "https://github.com/deepmind/sonnet/blob/v2/examples/mlp_on_mnist.ipynb  \n",
    "DeepMind graph nn example on physics system:  \n",
    "https://colab.research.google.com/github/deepmind/graph_nets/blob/master/graph_nets/demos/physics.ipynb#scrollTo=toCQhJIM93en  \n",
    "graph_nets InteractionNetwork class:  \n",
    "https://github.com/deepmind/graph_nets/blob/master/docs/graph_nets.md#class-modulesinteractionnetwork"
   ]
  },
  {
   "cell_type": "markdown",
   "metadata": {},
   "source": [
    "#### Let's grab a few graphs"
   ]
  },
  {
   "cell_type": "code",
   "execution_count": 15,
   "metadata": {
    "collapsed": true
   },
   "outputs": [],
   "source": [
    "runname = \"secondring_t1.0v1.0l10\"\n",
    "inputfname = \"nn_inputs/\"+runname+\".hdf5\"\n",
    "h5in = h5py.File(inputfname,'r')\n",
    "N_NODE_FEAT = 3\n",
    "N_EDGE_FEAT = 6\n",
    "N_NODE = h5in.attrs['n_nodes']\n",
    "N_EDGE = h5in.attrs['n_edges']\n",
    "NTG = h5in.attrs['nTG']\n",
    "h5in.close()"
   ]
  },
  {
   "cell_type": "code",
   "execution_count": 14,
   "metadata": {
    "collapsed": true
   },
   "outputs": [],
   "source": [
    "def snap2graph(h5file,day,tg,placeholder=False):\n",
    "    snapstr = 'day'+str(day)+'tg'+str(tg)\n",
    "    glbls = h5file['glbl_features/'+snapstr][0] # Seems glbls have extra dimension\n",
    "    nodes = h5file['node_features/'+snapstr]\n",
    "    edges = h5file['edge_features/'+snapstr]\n",
    "    senders = h5in['senders']\n",
    "    receivers = h5in['receivers']\n",
    "\n",
    "    graphdat_dict = {\n",
    "        \"globals\": glbls[:],\n",
    "        \"nodes\": nodes[:],\n",
    "        \"edges\": edges[:],\n",
    "        \"senders\": senders[:],\n",
    "        \"receivers\": receivers[:]\n",
    "    }\n",
    "\n",
    "#     np_graphs_tuple = utils_np.data_dicts_to_graphs_tuple([graphdat_dict])\n",
    "    if not placeholder:\n",
    "        graphs_tuple = utils_np.data_dicts_to_graphs_tuple([graphdat_dict])\n",
    "    else:\n",
    "        graphs_tuple = utils_tf.placeholders_from_data_dicts([graphdat_dict])\n",
    "     \n",
    "    return graphs_tuple"
   ]
  },
  {
   "cell_type": "code",
   "execution_count": 66,
   "metadata": {},
   "outputs": [
    {
     "name": "stdout",
     "output_type": "stream",
     "text": [
      "Output edges size: 6\n",
      "Output nodes size: 3\n"
     ]
    }
   ],
   "source": [
    "tf.reset_default_graph()\n",
    "\n",
    "h5in = h5py.File(inputfname,'r')\n",
    "# edge_model_fn: a callable to perform per-edge computations, etc.\n",
    "interaction_net = modules.InteractionNetwork(\n",
    "    edge_model_fn=lambda: snt.Linear(output_size=N_EDGE_FEAT),\n",
    "    node_model_fn=lambda: snt.Linear(output_size=N_NODE_FEAT))\n",
    "\n",
    "input_graph = snap2graph(h5in,day=0,tg=0,placeholder=True)\n",
    "output_graph = interaction_net(input_graph)\n",
    "lbl_graph = snap2graph(h5in,day=0,tg=0,placeholder=True)\n",
    "\n",
    "print(\"Output edges size: {}\".format(output_graph.edges.shape[-1]))  # Equal to OUTPUT_EDGE_SIZE\n",
    "print(\"Output nodes size: {}\".format(output_graph.nodes.shape[-1]))  # Equal to OUTPUT_NODE_SIZE\n",
    "\n",
    "loss = tf.losses.mean_squared_error(labels=lbl_graph.nodes, \n",
    "                                    predictions=output_graph.nodes)\\\n",
    "      +tf.losses.mean_squared_error(labels=lbl_graph.edges,\n",
    "                                    predictions=output_graph.edges)\n",
    "opt = tf.train.AdamOptimizer(learning_rate=1e-2)\n",
    "loss_op = opt.minimize(loss)\n",
    "h5in.close()"
   ]
  },
  {
   "cell_type": "code",
   "execution_count": null,
   "metadata": {
    "collapsed": true
   },
   "outputs": [],
   "source": []
  },
  {
   "cell_type": "markdown",
   "metadata": {},
   "source": [
    "#### We should include some standardization of the data"
   ]
  },
  {
   "cell_type": "code",
   "execution_count": null,
   "metadata": {
    "collapsed": true
   },
   "outputs": [],
   "source": []
  },
  {
   "cell_type": "code",
   "execution_count": 69,
   "metadata": {
    "colab": {},
    "colab_type": "code",
    "id": "10g2R-aKz2kY"
   },
   "outputs": [
    {
     "name": "stderr",
     "output_type": "stream",
     "text": [
      "100% (10000 of 10000) |##################| Elapsed Time: 0:01:02 Time:  0:01:02\n"
     ]
    }
   ],
   "source": [
    "losses = []\n",
    "sel_nodes_out, sel_nodes_input = [], []\n",
    "\n",
    "with h5py.File(inputfname,'r') as h5in:\n",
    "    with tf.Session() as sess:\n",
    "        sess.run(tf.global_variables_initializer())\n",
    "        for i in progressbar(range(10000)):\n",
    "            tg = i%NTG\n",
    "            day = (i//NTG)%7\n",
    "            lbltg = (i+1)%NTG\n",
    "            lblday = (day+((tg+1)//NTG))%7\n",
    "#             day,lblday = 0, 0\n",
    "            graph = snap2graph(h5in,day=day,tg=tg)\n",
    "            lbl = snap2graph(h5in,day=lblday,tg=lbltg)\n",
    "            train_dict = sess.run({\n",
    "                \"loss\": loss,\n",
    "                \"loss_op\": loss_op,\n",
    "                \"outputs\": output_graph,\n",
    "            }, feed_dict={\n",
    "                input_graph: graph,\n",
    "                lbl_graph: lbl\n",
    "            })\n",
    "            if (i)%100==0:\n",
    "#                 print(day,tg,train_dict['loss'])\n",
    "#                 sel_nodes_out.append([train_dict['outputs'].nodes[:3]])\n",
    "                losses.append(train_dict['loss'])\n",
    "\n",
    "        # Test"
   ]
  },
  {
   "cell_type": "code",
   "execution_count": 70,
   "metadata": {},
   "outputs": [
    {
     "data": {
      "text/plain": [
       "[<matplotlib.lines.Line2D at 0x7ff9a58faf28>]"
      ]
     },
     "execution_count": 70,
     "metadata": {},
     "output_type": "execute_result"
    },
    {
     "data": {
      "image/png": "[encoded data removed]",
      "text/plain": [
       "<Figure size 432x288 with 1 Axes>"
      ]
     },
     "metadata": {
      "needs_background": "light"
     },
     "output_type": "display_data"
    }
   ],
   "source": [
    "plt.semilogy(losses)"
   ]
  },
  {
   "cell_type": "code",
   "execution_count": 78,
   "metadata": {},
   "outputs": [
    {
     "data": {
      "text/plain": [
       "array([[ 0.        ,  0.        ,  0.        ,  0.        ,  0.        ,\n",
       "         0.        ],\n",
       "       [ 0.        ,  0.        ,  0.        ,  0.        ,  0.        ,\n",
       "         0.        ],\n",
       "       [ 1.        , 13.28155481,  0.        ,  0.        ,  0.        ,\n",
       "         0.        ],\n",
       "       [ 0.        ,  0.        ,  0.        ,  0.        ,  0.        ,\n",
       "         0.        ],\n",
       "       [ 0.        ,  0.        ,  0.        ,  0.        ,  0.        ,\n",
       "         0.        ],\n",
       "       [ 0.        ,  0.        ,  0.        ,  0.        ,  0.        ,\n",
       "         0.        ],\n",
       "       [ 0.        ,  0.        ,  0.        ,  0.        ,  0.        ,\n",
       "         0.        ],\n",
       "       [ 1.        , 13.28155481,  0.        ,  0.        ,  0.        ,\n",
       "         0.        ],\n",
       "       [ 3.        ,  2.51795393,  0.99395066,  2.        , 13.7940545 ,\n",
       "        10.98831362],\n",
       "       [ 2.        , 13.7940545 , 10.98831362,  2.        ,  3.18740248,\n",
       "         0.37070581]])"
      ]
     },
     "execution_count": 78,
     "metadata": {},
     "output_type": "execute_result"
    }
   ],
   "source": [
    "graph.edges[:10]"
   ]
  },
  {
   "cell_type": "code",
   "execution_count": 79,
   "metadata": {},
   "outputs": [
    {
     "data": {
      "text/plain": [
       "array([[0.        , 0.        , 0.        , 0.        , 0.        ,\n",
       "        0.        ],\n",
       "       [0.        , 0.        , 0.        , 0.        , 0.        ,\n",
       "        0.        ],\n",
       "       [1.        , 1.65478294, 0.        , 1.        , 1.31976201,\n",
       "        0.        ],\n",
       "       [0.        , 0.        , 0.        , 0.        , 0.        ,\n",
       "        0.        ],\n",
       "       [0.        , 0.        , 0.        , 0.        , 0.        ,\n",
       "        0.        ],\n",
       "       [0.        , 0.        , 0.        , 0.        , 0.        ,\n",
       "        0.        ],\n",
       "       [0.        , 0.        , 0.        , 0.        , 0.        ,\n",
       "        0.        ],\n",
       "       [0.        , 0.        , 0.        , 0.        , 0.        ,\n",
       "        0.        ],\n",
       "       [0.        , 0.        , 0.        , 1.        , 3.04009477,\n",
       "        0.        ],\n",
       "       [1.        , 3.04009477, 0.        , 0.        , 0.        ,\n",
       "        0.        ]])"
      ]
     },
     "execution_count": 79,
     "metadata": {},
     "output_type": "execute_result"
    }
   ],
   "source": [
    "lbl.edges[:10]"
   ]
  },
  {
   "cell_type": "code",
   "execution_count": 80,
   "metadata": {},
   "outputs": [
    {
     "data": {
      "text/plain": [
       "array([[ 7.73947161e-01, -3.36415911e+00,  1.48535686e+00,\n",
       "         5.73336252e+00, -1.90970898e+00, -1.10351579e+00],\n",
       "       [ 1.19898224e+00, -2.72015518e+00,  6.34097308e-01,\n",
       "         5.81738305e+00, -1.53049818e+00, -1.50227273e-01],\n",
       "       [-2.89491304e-02, -4.90492218e+00,  7.65534154e-01,\n",
       "         4.94618554e+00,  3.35299052e-01,  2.01137018e+00],\n",
       "       [ 3.38587809e-01, -3.96288055e+00,  1.90793688e+00,\n",
       "         5.86862566e+00, -2.31722563e+00, -1.91685643e+00],\n",
       "       [ 1.56915493e+00, -3.33991497e+00,  6.43387510e+00,\n",
       "         2.86760779e+00, -1.25641176e+00, -2.08417207e+00],\n",
       "       [ 3.87079893e+01,  1.78189104e+01,  7.59381866e+01,\n",
       "        -5.00992734e+01,  2.02435407e+01,  8.27295892e+00],\n",
       "       [ 1.53648649e+01,  4.82926819e+00,  2.88062763e+01,\n",
       "        -1.50036533e+01,  6.40417292e+00,  2.80448669e+00],\n",
       "       [-2.89491304e-02, -4.90492218e+00,  7.65534154e-01,\n",
       "         4.94618554e+00,  3.35299052e-01,  2.01137018e+00],\n",
       "       [ 9.21311286e-02, -2.32393080e+00,  9.49585912e+00,\n",
       "         8.59144271e+00, -2.41658118e-01, -1.30163743e+00],\n",
       "       [-8.78312093e-01, -8.70306254e+00,  9.21134704e+00,\n",
       "         2.69019006e-01,  1.99508290e+00, -1.51373647e+00]])"
      ]
     },
     "execution_count": 80,
     "metadata": {},
     "output_type": "execute_result"
    }
   ],
   "source": [
    "outputs = train_dict['outputs']\n",
    "outputs.edges[:10]"
   ]
  },
  {
   "cell_type": "code",
   "execution_count": null,
   "metadata": {
    "collapsed": true
   },
   "outputs": [],
   "source": [
    "a = np_graphs_tuple.replace(nodes=np_graphs_tuple.nodes[:10],\n",
    "                            edges=np_graphs_tuple.edges[:10],\n",
    "                            globals=np_graphs_tuple.globals[:10])"
   ]
  },
  {
   "cell_type": "code",
   "execution_count": null,
   "metadata": {
    "collapsed": true
   },
   "outputs": [],
   "source": [
    "outputs"
   ]
  }
 ],
 "metadata": {
  "kernelspec": {
   "display_name": "Python 3",
   "language": "python",
   "name": "python3"
  },
  "language_info": {
   "codemirror_mode": {
    "name": "ipython",
    "version": 3
   },
   "file_extension": ".py",
   "mimetype": "text/x-python",
   "name": "python",
   "nbconvert_exporter": "python",
   "pygments_lexer": "ipython3",
   "version": "3.5.2"
  }
 },
 "nbformat": 4,
 "nbformat_minor": 2
}
