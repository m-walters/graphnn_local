{
 "cells": [
  {
   "cell_type": "code",
   "execution_count": 28,
   "metadata": {
    "cellView": "both",
    "colab": {
     "base_uri": "https://localhost:8080/",
     "height": 321
    },
    "colab_type": "code",
    "collapsed": true,
    "id": "ww1nT7Ddydrk",
    "outputId": "76b6fb7d-8cd3-4864-a18e-ef25af8223e9"
   },
   "outputs": [],
   "source": [
    "from __future__ import absolute_import\n",
    "from __future__ import division\n",
    "from __future__ import print_function\n",
    "\n",
    "from graph_nets import blocks\n",
    "from graph_nets import graphs\n",
    "from graph_nets import modules\n",
    "from graph_nets import utils_np\n",
    "from graph_nets import utils_tf\n",
    "\n",
    "import my_graph_tools as mgt\n",
    "import numpy as np\n",
    "import tensorflow as tf\n",
    "import h5py\n",
    "import sonnet as snt\n",
    "import matplotlib.pyplot as plt\n",
    "\n",
    "from importlib import reload\n",
    "from progressbar import progressbar\n",
    "\n",
    "%matplotlib inline\n",
    "\n",
    "pi = np.pi\n",
    "twopi = np.pi*2"
   ]
  },
  {
   "cell_type": "markdown",
   "metadata": {},
   "source": [
    "Useful reference on using Sonnet:  \n",
    "https://github.com/deepmind/sonnet/blob/v2/examples/mlp_on_mnist.ipynb  \n",
    "DeepMind graph nn example on physics system:  \n",
    "https://colab.research.google.com/github/deepmind/graph_nets/blob/master/graph_nets/demos/physics.ipynb#scrollTo=toCQhJIM93en  \n",
    "graph_nets InteractionNetwork class:  \n",
    "https://github.com/deepmind/graph_nets/blob/master/docs/graph_nets.md#class-modulesinteractionnetwork"
   ]
  },
  {
   "cell_type": "markdown",
   "metadata": {},
   "source": [
    "#### Let's grab a few graphs"
   ]
  },
  {
   "cell_type": "code",
   "execution_count": 8,
   "metadata": {
    "collapsed": true
   },
   "outputs": [],
   "source": [
    "runname = \"secondring_t1.0v1.0l10\"\n",
    "inputfname = \"nn_inputs/\"+runname+\".hdf5\"\n",
    "h5in = h5py.File(inputfname,'r')\n",
    "N_NODE_FEAT = 3\n",
    "N_EDGE_FEAT = 6\n",
    "N_NODE = h5in.attrs['n_nodes']\n",
    "N_EDGE = h5in.attrs['n_edges']\n",
    "NTG = h5in.attrs['nTG']\n",
    "node_pos_np = h5in['node_coords'][:]\n",
    "node_pos = mgt.get_node_coord_dict(h5in)\n",
    "h5in.close()"
   ]
  },
  {
   "cell_type": "code",
   "execution_count": null,
   "metadata": {
    "collapsed": true
   },
   "outputs": [],
   "source": [
    "np.var(node_normed,axis=0)"
   ]
  },
  {
   "cell_type": "code",
   "execution_count": null,
   "metadata": {
    "collapsed": true
   },
   "outputs": [],
   "source": [
    "np.mean(normalize(a,axis=1),axis=1)"
   ]
  },
  {
   "cell_type": "code",
   "execution_count": null,
   "metadata": {
    "collapsed": true
   },
   "outputs": [],
   "source": [
    "a = np.array([[1,-1],[2,-2],[3,-3]])"
   ]
  },
  {
   "cell_type": "code",
   "execution_count": null,
   "metadata": {
    "collapsed": true,
    "scrolled": true
   },
   "outputs": [],
   "source": [
    "node_normed = normalize(lbl.nodes,axis=0)\n",
    "edge_normed = normalize(lbl.edges,axis=0)"
   ]
  },
  {
   "cell_type": "code",
   "execution_count": null,
   "metadata": {
    "collapsed": true
   },
   "outputs": [],
   "source": [
    "np.mean(lbl.nodes,axis=0)"
   ]
  },
  {
   "cell_type": "code",
   "execution_count": null,
   "metadata": {
    "collapsed": true
   },
   "outputs": [],
   "source": [
    "node_mus,node_vars,edge_mus,edge_vars"
   ]
  },
  {
   "cell_type": "code",
   "execution_count": null,
   "metadata": {
    "collapsed": true
   },
   "outputs": [],
   "source": [
    "# Some sample values for normalizing the stats\n",
    "node_mus = np.mean(lbl.nodes,axis=0)\n",
    "node_std = np.std(lbl.nodes,axis=0)\n",
    "edge_mus = np.mean(lbl.edges,axis=0)\n",
    "edge_std = np.std(lbl.edges,axis=0)"
   ]
  },
  {
   "cell_type": "code",
   "execution_count": 55,
   "metadata": {
    "collapsed": true
   },
   "outputs": [],
   "source": [
    "h5in = h5py.File(inputfname,'r')\n",
    "h5g = mgt.snap2graph(h5in,day=1,tg=72)\n",
    "h5in.close()"
   ]
  },
  {
   "cell_type": "markdown",
   "metadata": {
    "collapsed": true
   },
   "source": [
    "SE link for calculating running mu and var of data  \n",
    "https://math.stackexchange.com/questions/20593/calculate-variance-from-a-stream-of-sample-values  \n",
    "Let's ignore these stats for now"
   ]
  },
  {
   "cell_type": "code",
   "execution_count": null,
   "metadata": {
    "collapsed": true
   },
   "outputs": [],
   "source": [
    "col_lims = [-1., np.max(h5g.nodes[:,0])*0.5, -1., np.max(h5g.edges[:,0])*0.5]\n",
    "# col_lims = [0, 1, 0, 1]\n",
    "fig, ax = draw_graph(h5g,node_pos, col_lims=col_lims)"
   ]
  },
  {
   "cell_type": "code",
   "execution_count": 21,
   "metadata": {},
   "outputs": [
    {
     "data": {
      "text/plain": [
       "<module 'my_graph_tools' from '/home/michael/msc/summer17/traffic/graphnn_local/my_graph_tools.py'>"
      ]
     },
     "execution_count": 21,
     "metadata": {},
     "output_type": "execute_result"
    }
   ],
   "source": [
    "reload(mgt)"
   ]
  },
  {
   "cell_type": "code",
   "execution_count": 22,
   "metadata": {},
   "outputs": [
    {
     "name": "stdout",
     "output_type": "stream",
     "text": [
      "Output edges size: 6\n",
      "Output nodes size: 3\n",
      "Output globals size: 2\n"
     ]
    }
   ],
   "source": [
    "tf.reset_default_graph()\n",
    "\n",
    "h5in = h5py.File(inputfname,'r')\n",
    "# edge_model_fn: a callable to perform per-edge computations, etc.\n",
    "graphnet = modules.GraphNetwork(\n",
    "    edge_model_fn=lambda: snt.Linear(output_size=N_EDGE_FEAT),\n",
    "    node_model_fn=lambda: snt.Linear(output_size=N_NODE_FEAT),\n",
    "    global_model_fn=lambda: mgt.timecrement(NTG),\n",
    "    global_block_opt={\"use_edges\":False,\"use_nodes\":False})\n",
    "\n",
    "input_graph = snap2graph(h5in,day=0,tg=0,use_tf=True,placeholder=True)\n",
    "output_graph = graphnet(input_graph)\n",
    "lbl_graph = snap2graph(h5in,day=0,tg=0,use_tf=True,placeholder=True)\n",
    "\n",
    "print(\"Output edges size: {}\".format(output_graph.edges.shape[-1]))  # Equal to OUTPUT_EDGE_SIZE\n",
    "print(\"Output nodes size: {}\".format(output_graph.nodes.shape[-1]))  # Equal to OUTPUT_NODE_SIZE\n",
    "print(\"Output globals size: {}\".format(output_graph.globals.shape[-1]))\n",
    "\n",
    "loss = tf.losses.mean_squared_error(labels=lbl_graph.nodes, \n",
    "                                    predictions=output_graph.nodes)\\\n",
    "      +tf.losses.mean_squared_error(labels=lbl_graph.edges,\n",
    "                                    predictions=output_graph.edges)\n",
    "opt = tf.train.AdamOptimizer(learning_rate=1e-3)\n",
    "loss_op = opt.minimize(loss)\n",
    "h5in.close()"
   ]
  },
  {
   "cell_type": "code",
   "execution_count": 18,
   "metadata": {
    "colab": {},
    "colab_type": "code",
    "collapsed": true,
    "id": "10g2R-aKz2kY"
   },
   "outputs": [
    {
     "name": "stderr",
     "output_type": "stream",
     "text": [
      " 12% (254 of 2000) |##                   | Elapsed Time: 0:00:02 ETA:   0:00:14"
     ]
    },
    {
     "ename": "KeyboardInterrupt",
     "evalue": "",
     "output_type": "error",
     "traceback": [
      "\u001b[0;31m---------------------------------------------------------------------------\u001b[0m",
      "\u001b[0;31mKeyboardInterrupt\u001b[0m                         Traceback (most recent call last)",
      "\u001b[0;32m<ipython-input-18-cf9818d2eb59>\u001b[0m in \u001b[0;36m<module>\u001b[0;34m\u001b[0m\n\u001b[1;32m     19\u001b[0m             \u001b[0;34m}\u001b[0m\u001b[0;34m,\u001b[0m \u001b[0mfeed_dict\u001b[0m\u001b[0;34m=\u001b[0m\u001b[0;34m{\u001b[0m\u001b[0;34m\u001b[0m\u001b[0m\n\u001b[1;32m     20\u001b[0m                 \u001b[0minput_graph\u001b[0m\u001b[0;34m:\u001b[0m \u001b[0mgraph\u001b[0m\u001b[0;34m,\u001b[0m\u001b[0;34m\u001b[0m\u001b[0m\n\u001b[0;32m---> 21\u001b[0;31m                 \u001b[0mlbl_graph\u001b[0m\u001b[0;34m:\u001b[0m \u001b[0mlbl\u001b[0m\u001b[0;34m\u001b[0m\u001b[0m\n\u001b[0m\u001b[1;32m     22\u001b[0m             })\n\u001b[1;32m     23\u001b[0m             \u001b[0;32mif\u001b[0m \u001b[0mi\u001b[0m\u001b[0;34m%\u001b[0m\u001b[0;36m100\u001b[0m\u001b[0;34m==\u001b[0m\u001b[0;36m0\u001b[0m\u001b[0;34m:\u001b[0m\u001b[0;34m\u001b[0m\u001b[0m\n",
      "\u001b[0;32m/usr/local/lib/python3.5/dist-packages/tensorflow_core/python/client/session.py\u001b[0m in \u001b[0;36mrun\u001b[0;34m(self, fetches, feed_dict, options, run_metadata)\u001b[0m\n\u001b[1;32m    954\u001b[0m     \u001b[0;32mtry\u001b[0m\u001b[0;34m:\u001b[0m\u001b[0;34m\u001b[0m\u001b[0m\n\u001b[1;32m    955\u001b[0m       result = self._run(None, fetches, feed_dict, options_ptr,\n\u001b[0;32m--> 956\u001b[0;31m                          run_metadata_ptr)\n\u001b[0m\u001b[1;32m    957\u001b[0m       \u001b[0;32mif\u001b[0m \u001b[0mrun_metadata\u001b[0m\u001b[0;34m:\u001b[0m\u001b[0;34m\u001b[0m\u001b[0m\n\u001b[1;32m    958\u001b[0m         \u001b[0mproto_data\u001b[0m \u001b[0;34m=\u001b[0m \u001b[0mtf_session\u001b[0m\u001b[0;34m.\u001b[0m\u001b[0mTF_GetBuffer\u001b[0m\u001b[0;34m(\u001b[0m\u001b[0mrun_metadata_ptr\u001b[0m\u001b[0;34m)\u001b[0m\u001b[0;34m\u001b[0m\u001b[0m\n",
      "\u001b[0;32m/usr/local/lib/python3.5/dist-packages/tensorflow_core/python/client/session.py\u001b[0m in \u001b[0;36m_run\u001b[0;34m(self, handle, fetches, feed_dict, options, run_metadata)\u001b[0m\n\u001b[1;32m   1178\u001b[0m     \u001b[0;32mif\u001b[0m \u001b[0mfinal_fetches\u001b[0m \u001b[0;32mor\u001b[0m \u001b[0mfinal_targets\u001b[0m \u001b[0;32mor\u001b[0m \u001b[0;34m(\u001b[0m\u001b[0mhandle\u001b[0m \u001b[0;32mand\u001b[0m \u001b[0mfeed_dict_tensor\u001b[0m\u001b[0;34m)\u001b[0m\u001b[0;34m:\u001b[0m\u001b[0;34m\u001b[0m\u001b[0m\n\u001b[1;32m   1179\u001b[0m       results = self._do_run(handle, final_targets, final_fetches,\n\u001b[0;32m-> 1180\u001b[0;31m                              feed_dict_tensor, options, run_metadata)\n\u001b[0m\u001b[1;32m   1181\u001b[0m     \u001b[0;32melse\u001b[0m\u001b[0;34m:\u001b[0m\u001b[0;34m\u001b[0m\u001b[0m\n\u001b[1;32m   1182\u001b[0m       \u001b[0mresults\u001b[0m \u001b[0;34m=\u001b[0m \u001b[0;34m[\u001b[0m\u001b[0;34m]\u001b[0m\u001b[0;34m\u001b[0m\u001b[0m\n",
      "\u001b[0;32m/usr/local/lib/python3.5/dist-packages/tensorflow_core/python/client/session.py\u001b[0m in \u001b[0;36m_do_run\u001b[0;34m(self, handle, target_list, fetch_list, feed_dict, options, run_metadata)\u001b[0m\n\u001b[1;32m   1357\u001b[0m     \u001b[0;32mif\u001b[0m \u001b[0mhandle\u001b[0m \u001b[0;32mis\u001b[0m \u001b[0;32mNone\u001b[0m\u001b[0;34m:\u001b[0m\u001b[0;34m\u001b[0m\u001b[0m\n\u001b[1;32m   1358\u001b[0m       return self._do_call(_run_fn, feeds, fetches, targets, options,\n\u001b[0;32m-> 1359\u001b[0;31m                            run_metadata)\n\u001b[0m\u001b[1;32m   1360\u001b[0m     \u001b[0;32melse\u001b[0m\u001b[0;34m:\u001b[0m\u001b[0;34m\u001b[0m\u001b[0m\n\u001b[1;32m   1361\u001b[0m       \u001b[0;32mreturn\u001b[0m \u001b[0mself\u001b[0m\u001b[0;34m.\u001b[0m\u001b[0m_do_call\u001b[0m\u001b[0;34m(\u001b[0m\u001b[0m_prun_fn\u001b[0m\u001b[0;34m,\u001b[0m \u001b[0mhandle\u001b[0m\u001b[0;34m,\u001b[0m \u001b[0mfeeds\u001b[0m\u001b[0;34m,\u001b[0m \u001b[0mfetches\u001b[0m\u001b[0;34m)\u001b[0m\u001b[0;34m\u001b[0m\u001b[0m\n",
      "\u001b[0;32m/usr/local/lib/python3.5/dist-packages/tensorflow_core/python/client/session.py\u001b[0m in \u001b[0;36m_do_call\u001b[0;34m(self, fn, *args)\u001b[0m\n\u001b[1;32m   1363\u001b[0m   \u001b[0;32mdef\u001b[0m \u001b[0m_do_call\u001b[0m\u001b[0;34m(\u001b[0m\u001b[0mself\u001b[0m\u001b[0;34m,\u001b[0m \u001b[0mfn\u001b[0m\u001b[0;34m,\u001b[0m \u001b[0;34m*\u001b[0m\u001b[0margs\u001b[0m\u001b[0;34m)\u001b[0m\u001b[0;34m:\u001b[0m\u001b[0;34m\u001b[0m\u001b[0m\n\u001b[1;32m   1364\u001b[0m     \u001b[0;32mtry\u001b[0m\u001b[0;34m:\u001b[0m\u001b[0;34m\u001b[0m\u001b[0m\n\u001b[0;32m-> 1365\u001b[0;31m       \u001b[0;32mreturn\u001b[0m \u001b[0mfn\u001b[0m\u001b[0;34m(\u001b[0m\u001b[0;34m*\u001b[0m\u001b[0margs\u001b[0m\u001b[0;34m)\u001b[0m\u001b[0;34m\u001b[0m\u001b[0m\n\u001b[0m\u001b[1;32m   1366\u001b[0m     \u001b[0;32mexcept\u001b[0m \u001b[0merrors\u001b[0m\u001b[0;34m.\u001b[0m\u001b[0mOpError\u001b[0m \u001b[0;32mas\u001b[0m \u001b[0me\u001b[0m\u001b[0;34m:\u001b[0m\u001b[0;34m\u001b[0m\u001b[0m\n\u001b[1;32m   1367\u001b[0m       \u001b[0mmessage\u001b[0m \u001b[0;34m=\u001b[0m \u001b[0mcompat\u001b[0m\u001b[0;34m.\u001b[0m\u001b[0mas_text\u001b[0m\u001b[0;34m(\u001b[0m\u001b[0me\u001b[0m\u001b[0;34m.\u001b[0m\u001b[0mmessage\u001b[0m\u001b[0;34m)\u001b[0m\u001b[0;34m\u001b[0m\u001b[0m\n",
      "\u001b[0;32m/usr/local/lib/python3.5/dist-packages/tensorflow_core/python/client/session.py\u001b[0m in \u001b[0;36m_run_fn\u001b[0;34m(feed_dict, fetch_list, target_list, options, run_metadata)\u001b[0m\n\u001b[1;32m   1348\u001b[0m       \u001b[0mself\u001b[0m\u001b[0;34m.\u001b[0m\u001b[0m_extend_graph\u001b[0m\u001b[0;34m(\u001b[0m\u001b[0;34m)\u001b[0m\u001b[0;34m\u001b[0m\u001b[0m\n\u001b[1;32m   1349\u001b[0m       return self._call_tf_sessionrun(options, feed_dict, fetch_list,\n\u001b[0;32m-> 1350\u001b[0;31m                                       target_list, run_metadata)\n\u001b[0m\u001b[1;32m   1351\u001b[0m \u001b[0;34m\u001b[0m\u001b[0m\n\u001b[1;32m   1352\u001b[0m     \u001b[0;32mdef\u001b[0m \u001b[0m_prun_fn\u001b[0m\u001b[0;34m(\u001b[0m\u001b[0mhandle\u001b[0m\u001b[0;34m,\u001b[0m \u001b[0mfeed_dict\u001b[0m\u001b[0;34m,\u001b[0m \u001b[0mfetch_list\u001b[0m\u001b[0;34m)\u001b[0m\u001b[0;34m:\u001b[0m\u001b[0;34m\u001b[0m\u001b[0m\n",
      "\u001b[0;32m/usr/local/lib/python3.5/dist-packages/tensorflow_core/python/client/session.py\u001b[0m in \u001b[0;36m_call_tf_sessionrun\u001b[0;34m(self, options, feed_dict, fetch_list, target_list, run_metadata)\u001b[0m\n\u001b[1;32m   1441\u001b[0m     return tf_session.TF_SessionRun_wrapper(self._session, options, feed_dict,\n\u001b[1;32m   1442\u001b[0m                                             \u001b[0mfetch_list\u001b[0m\u001b[0;34m,\u001b[0m \u001b[0mtarget_list\u001b[0m\u001b[0;34m,\u001b[0m\u001b[0;34m\u001b[0m\u001b[0m\n\u001b[0;32m-> 1443\u001b[0;31m                                             run_metadata)\n\u001b[0m\u001b[1;32m   1444\u001b[0m \u001b[0;34m\u001b[0m\u001b[0m\n\u001b[1;32m   1445\u001b[0m   \u001b[0;32mdef\u001b[0m \u001b[0m_call_tf_sessionprun\u001b[0m\u001b[0;34m(\u001b[0m\u001b[0mself\u001b[0m\u001b[0;34m,\u001b[0m \u001b[0mhandle\u001b[0m\u001b[0;34m,\u001b[0m \u001b[0mfeed_dict\u001b[0m\u001b[0;34m,\u001b[0m \u001b[0mfetch_list\u001b[0m\u001b[0;34m)\u001b[0m\u001b[0;34m:\u001b[0m\u001b[0;34m\u001b[0m\u001b[0m\n",
      "\u001b[0;31mKeyboardInterrupt\u001b[0m: "
     ]
    }
   ],
   "source": [
    "losses = []\n",
    "sel_nodes_out, sel_nodes_input = [], []\n",
    "\n",
    "with h5py.File(inputfname,'r') as h5in:\n",
    "    with tf.Session() as sess:\n",
    "        sess.run(tf.global_variables_initializer())\n",
    "        for i in progressbar(range(2000)):\n",
    "            tg = i%NTG\n",
    "            day = (i//NTG)%7\n",
    "            lbltg = (i+1)%NTG\n",
    "            lblday = (day+((tg+1)//NTG))%7\n",
    "            graph = mgt.snap2graph(h5in,day=day,tg=tg)\n",
    "            lbl = mgt.snap2graph(h5in,day=lblday,tg=lbltg)\n",
    "            train_dict = sess.run({\n",
    "                \"loss\": loss,\n",
    "                \"loss_op\": loss_op,\n",
    "                \"outputs\": output_graph,\n",
    "                \"train_vars\": graphnet.trainable_variables\n",
    "            }, feed_dict={\n",
    "                input_graph: graph,\n",
    "                lbl_graph: lbl\n",
    "            })\n",
    "            if i%100==0:\n",
    "                losses.append(train_dict['loss'])\n",
    "\n",
    "        # Test"
   ]
  },
  {
   "cell_type": "code",
   "execution_count": null,
   "metadata": {
    "collapsed": true
   },
   "outputs": [],
   "source": [
    "plt.semilogy(losses)"
   ]
  },
  {
   "cell_type": "code",
   "execution_count": null,
   "metadata": {
    "collapsed": true
   },
   "outputs": [],
   "source": [
    "# Create a "
   ]
  },
  {
   "cell_type": "code",
   "execution_count": 186,
   "metadata": {},
   "outputs": [
    {
     "data": {
      "text/plain": [
       "<module 'my_graph_tools' from '/home/michael/msc/summer17/traffic/graphnn_local/my_graph_tools.py'>"
      ]
     },
     "execution_count": 186,
     "metadata": {},
     "output_type": "execute_result"
    }
   ],
   "source": [
    "reload(mgt)"
   ]
  },
  {
   "cell_type": "code",
   "execution_count": 187,
   "metadata": {
    "scrolled": false
   },
   "outputs": [
    {
     "name": "stdout",
     "output_type": "stream",
     "text": [
      "Output edges size: 6\n",
      "Output nodes size: 3\n",
      "Output globals size: 2\n"
     ]
    }
   ],
   "source": [
    "tf.reset_default_graph()\n",
    "NUM_PROC_STEP = 4\n",
    "\n",
    "h5in = h5py.File(inputfname,'r')\n",
    "graphnet = mgt.EncodeProcessDecode(edge_output_size=N_EDGE_FEAT,\n",
    "               node_output_size=N_NODE_FEAT, name=\"output\")\n",
    "input_graph = mgt.snap2graph(h5in,day=0,tg=0,use_tf=True,placeholder=False,name=\"input\")\n",
    "output_graph_list = graphnet(input_graph,num_processing_steps=NUM_PROC_STEP)\n",
    "output_graph = output_graph_list[-1]\n",
    "lbl_graph = mgt.snap2graph(h5in,day=0,tg=0,use_tf=True,placeholder=True,name=\"label\")\n",
    "\n",
    "print(\"Output edges size: {}\".format(output_graph.edges.shape[-1]))  # Equal to OUTPUT_EDGE_SIZE\n",
    "print(\"Output nodes size: {}\".format(output_graph.nodes.shape[-1]))  # Equal to OUTPUT_NODE_SIZE\n",
    "print(\"Output globals size: {}\".format(output_graph.globals.shape[-1]))\n",
    "\n",
    "loss = tf.losses.mean_squared_error(labels=lbl_graph.nodes, \n",
    "                                    predictions=output_graph.nodes)\\\n",
    "      +tf.losses.mean_squared_error(labels=lbl_graph.edges,\n",
    "                                    predictions=output_graph.edges)\n",
    "\n",
    "opt = tf.train.AdamOptimizer(learning_rate=1e-2)\n",
    "loss_op = opt.minimize(loss)\n",
    "h5in.close()"
   ]
  },
  {
   "cell_type": "code",
   "execution_count": 188,
   "metadata": {},
   "outputs": [
    {
     "data": {
      "text/plain": [
       "(<tf.Variable 'MLPGraphIndependent/graph_independent/edge_model/layer_norm/beta:0' shape=(32,) dtype=float64_ref>,\n",
       " <tf.Variable 'MLPGraphIndependent/graph_independent/edge_model/layer_norm/gamma:0' shape=(32,) dtype=float64_ref>,\n",
       " <tf.Variable 'MLPGraphIndependent/graph_independent/edge_model/mlp/linear_0/b:0' shape=(32,) dtype=float64_ref>,\n",
       " <tf.Variable 'MLPGraphIndependent/graph_independent/edge_model/mlp/linear_0/w:0' shape=(6, 32) dtype=float64_ref>,\n",
       " <tf.Variable 'MLPGraphIndependent/graph_independent/edge_model/mlp/linear_1/b:0' shape=(32,) dtype=float64_ref>,\n",
       " <tf.Variable 'MLPGraphIndependent/graph_independent/edge_model/mlp/linear_1/w:0' shape=(32, 32) dtype=float64_ref>,\n",
       " <tf.Variable 'MLPGraphIndependent/graph_independent/edge_model/mlp/linear_2/b:0' shape=(32,) dtype=float64_ref>,\n",
       " <tf.Variable 'MLPGraphIndependent/graph_independent/edge_model/mlp/linear_2/w:0' shape=(32, 32) dtype=float64_ref>,\n",
       " <tf.Variable 'MLPGraphIndependent/graph_independent/node_model/layer_norm/beta:0' shape=(32,) dtype=float64_ref>,\n",
       " <tf.Variable 'MLPGraphIndependent/graph_independent/node_model/layer_norm/gamma:0' shape=(32,) dtype=float64_ref>,\n",
       " <tf.Variable 'MLPGraphIndependent/graph_independent/node_model/mlp/linear_0/b:0' shape=(32,) dtype=float64_ref>,\n",
       " <tf.Variable 'MLPGraphIndependent/graph_independent/node_model/mlp/linear_0/w:0' shape=(3, 32) dtype=float64_ref>,\n",
       " <tf.Variable 'MLPGraphIndependent/graph_independent/node_model/mlp/linear_1/b:0' shape=(32,) dtype=float64_ref>,\n",
       " <tf.Variable 'MLPGraphIndependent/graph_independent/node_model/mlp/linear_1/w:0' shape=(32, 32) dtype=float64_ref>,\n",
       " <tf.Variable 'MLPGraphIndependent/graph_independent/node_model/mlp/linear_2/b:0' shape=(32,) dtype=float64_ref>,\n",
       " <tf.Variable 'MLPGraphIndependent/graph_independent/node_model/mlp/linear_2/w:0' shape=(32, 32) dtype=float64_ref>,\n",
       " <tf.Variable 'MLPGraphIndependent_1/graph_independent/edge_model/layer_norm/beta:0' shape=(32,) dtype=float64_ref>,\n",
       " <tf.Variable 'MLPGraphIndependent_1/graph_independent/edge_model/layer_norm/gamma:0' shape=(32,) dtype=float64_ref>,\n",
       " <tf.Variable 'MLPGraphIndependent_1/graph_independent/edge_model/mlp/linear_0/b:0' shape=(32,) dtype=float64_ref>,\n",
       " <tf.Variable 'MLPGraphIndependent_1/graph_independent/edge_model/mlp/linear_0/w:0' shape=(32, 32) dtype=float64_ref>,\n",
       " <tf.Variable 'MLPGraphIndependent_1/graph_independent/edge_model/mlp/linear_1/b:0' shape=(32,) dtype=float64_ref>,\n",
       " <tf.Variable 'MLPGraphIndependent_1/graph_independent/edge_model/mlp/linear_1/w:0' shape=(32, 32) dtype=float64_ref>,\n",
       " <tf.Variable 'MLPGraphIndependent_1/graph_independent/edge_model/mlp/linear_2/b:0' shape=(32,) dtype=float64_ref>,\n",
       " <tf.Variable 'MLPGraphIndependent_1/graph_independent/edge_model/mlp/linear_2/w:0' shape=(32, 32) dtype=float64_ref>,\n",
       " <tf.Variable 'MLPGraphIndependent_1/graph_independent/node_model/layer_norm/beta:0' shape=(32,) dtype=float64_ref>,\n",
       " <tf.Variable 'MLPGraphIndependent_1/graph_independent/node_model/layer_norm/gamma:0' shape=(32,) dtype=float64_ref>,\n",
       " <tf.Variable 'MLPGraphIndependent_1/graph_independent/node_model/mlp/linear_0/b:0' shape=(32,) dtype=float64_ref>,\n",
       " <tf.Variable 'MLPGraphIndependent_1/graph_independent/node_model/mlp/linear_0/w:0' shape=(32, 32) dtype=float64_ref>,\n",
       " <tf.Variable 'MLPGraphIndependent_1/graph_independent/node_model/mlp/linear_1/b:0' shape=(32,) dtype=float64_ref>,\n",
       " <tf.Variable 'MLPGraphIndependent_1/graph_independent/node_model/mlp/linear_1/w:0' shape=(32, 32) dtype=float64_ref>,\n",
       " <tf.Variable 'MLPGraphIndependent_1/graph_independent/node_model/mlp/linear_2/b:0' shape=(32,) dtype=float64_ref>,\n",
       " <tf.Variable 'MLPGraphIndependent_1/graph_independent/node_model/mlp/linear_2/w:0' shape=(32, 32) dtype=float64_ref>,\n",
       " <tf.Variable 'MLPGraphNetwork/graph_network/edge_block/layer_norm/beta:0' shape=(32,) dtype=float64_ref>,\n",
       " <tf.Variable 'MLPGraphNetwork/graph_network/edge_block/layer_norm/gamma:0' shape=(32,) dtype=float64_ref>,\n",
       " <tf.Variable 'MLPGraphNetwork/graph_network/edge_block/mlp/linear_0/b:0' shape=(32,) dtype=float64_ref>,\n",
       " <tf.Variable 'MLPGraphNetwork/graph_network/edge_block/mlp/linear_0/w:0' shape=(196, 32) dtype=float64_ref>,\n",
       " <tf.Variable 'MLPGraphNetwork/graph_network/edge_block/mlp/linear_1/b:0' shape=(32,) dtype=float64_ref>,\n",
       " <tf.Variable 'MLPGraphNetwork/graph_network/edge_block/mlp/linear_1/w:0' shape=(32, 32) dtype=float64_ref>,\n",
       " <tf.Variable 'MLPGraphNetwork/graph_network/edge_block/mlp/linear_2/b:0' shape=(32,) dtype=float64_ref>,\n",
       " <tf.Variable 'MLPGraphNetwork/graph_network/edge_block/mlp/linear_2/w:0' shape=(32, 32) dtype=float64_ref>,\n",
       " <tf.Variable 'MLPGraphNetwork/graph_network/node_block/layer_norm/beta:0' shape=(32,) dtype=float64_ref>,\n",
       " <tf.Variable 'MLPGraphNetwork/graph_network/node_block/layer_norm/gamma:0' shape=(32,) dtype=float64_ref>,\n",
       " <tf.Variable 'MLPGraphNetwork/graph_network/node_block/mlp/linear_0/b:0' shape=(32,) dtype=float64_ref>,\n",
       " <tf.Variable 'MLPGraphNetwork/graph_network/node_block/mlp/linear_0/w:0' shape=(100, 32) dtype=float64_ref>,\n",
       " <tf.Variable 'MLPGraphNetwork/graph_network/node_block/mlp/linear_1/b:0' shape=(32,) dtype=float64_ref>,\n",
       " <tf.Variable 'MLPGraphNetwork/graph_network/node_block/mlp/linear_1/w:0' shape=(32, 32) dtype=float64_ref>,\n",
       " <tf.Variable 'MLPGraphNetwork/graph_network/node_block/mlp/linear_2/b:0' shape=(32,) dtype=float64_ref>,\n",
       " <tf.Variable 'MLPGraphNetwork/graph_network/node_block/mlp/linear_2/w:0' shape=(32, 32) dtype=float64_ref>,\n",
       " <tf.Variable 'output/graph_independent/edge_model/edge_output/b:0' shape=(6,) dtype=float64_ref>,\n",
       " <tf.Variable 'output/graph_independent/edge_model/edge_output/w:0' shape=(32, 6) dtype=float64_ref>,\n",
       " <tf.Variable 'output/graph_independent/node_model/node_output/b:0' shape=(3,) dtype=float64_ref>,\n",
       " <tf.Variable 'output/graph_independent/node_model/node_output/w:0' shape=(32, 3) dtype=float64_ref>)"
      ]
     },
     "execution_count": 188,
     "metadata": {},
     "output_type": "execute_result"
    }
   ],
   "source": [
    "graphnet.trainable_variables"
   ]
  },
  {
   "cell_type": "code",
   "execution_count": 189,
   "metadata": {
    "colab": {},
    "colab_type": "code",
    "id": "10g2R-aKz2kY"
   },
   "outputs": [
    {
     "name": "stderr",
     "output_type": "stream",
     "text": [
      "100% (10000 of 10000) |##################| Elapsed Time: 0:23:02 Time:  0:23:02\n"
     ]
    }
   ],
   "source": [
    "losses = []\n",
    "out_graphs = []\n",
    "nstep = 10000\n",
    "\n",
    "with h5py.File(inputfname,'r') as h5in:\n",
    "    with tf.Session() as sess:\n",
    "        sess.run(tf.global_variables_initializer())\n",
    "        for i in progressbar(range(nstep)):\n",
    "            tg = i%NTG\n",
    "            day = (i//NTG)%7\n",
    "            lbltg = (i+1)%NTG\n",
    "            lblday = (day+((tg+1)//NTG))%7\n",
    "            graph = mgt.snap2graph(h5in,day=day,tg=tg)\n",
    "            lbl = mgt.snap2graph(h5in,day=lblday,tg=lbltg)\n",
    "            train_dict = sess.run({\n",
    "                \"loss\": loss,\n",
    "                \"loss_op\": loss_op,\n",
    "            }, feed_dict={\n",
    "                input_graph: graph,\n",
    "                lbl_graph: lbl\n",
    "            })\n",
    "            if (i%100==0) or (i==(nstep-1)):\n",
    "                out_graph = sess.run([output_graph],\n",
    "                                    feed_dict={\n",
    "                                        input_graph: graph,\n",
    "                                        lbl_graph: lbl\n",
    "                                    })\n",
    "                out_graphs.append(out_graph[-1])\n",
    "                losses.append(train_dict['loss'])\n",
    "\n",
    "        # Test"
   ]
  },
  {
   "cell_type": "code",
   "execution_count": 190,
   "metadata": {
    "scrolled": true
   },
   "outputs": [
    {
     "data": {
      "text/plain": [
       "[<matplotlib.lines.Line2D at 0x7f3ac5886400>]"
      ]
     },
     "execution_count": 190,
     "metadata": {},
     "output_type": "execute_result"
    },
    {
     "data": {
      "image/png": "[encoded data removed]",
      "text/plain": [
       "<Figure size 432x288 with 1 Axes>"
      ]
     },
     "metadata": {
      "needs_background": "light"
     },
     "output_type": "display_data"
    }
   ],
   "source": [
    "plt.semilogy(losses)"
   ]
  },
  {
   "cell_type": "code",
   "execution_count": 121,
   "metadata": {},
   "outputs": [
    {
     "data": {
      "text/plain": [
       "array([[ 1.        , 17.09112093,  0.        ],\n",
       "       [ 0.        ,  0.        ,  0.        ],\n",
       "       [ 5.        , 13.1423759 ,  7.02356856],\n",
       "       [10.        , 15.90417732, 14.17205387],\n",
       "       [11.        , 10.52139226, 12.67937482],\n",
       "       [ 5.        ,  9.17301394, 14.57811228],\n",
       "       [ 7.        , 12.19523509,  8.4408751 ],\n",
       "       [ 6.        , 11.58114125,  7.35453154],\n",
       "       [ 8.        , 10.50925273,  7.70503591],\n",
       "       [ 6.        , 11.58114125,  7.35453154]])"
      ]
     },
     "execution_count": 121,
     "metadata": {},
     "output_type": "execute_result"
    }
   ],
   "source": [
    "lbl.nodes[:10]"
   ]
  },
  {
   "cell_type": "code",
   "execution_count": 177,
   "metadata": {
    "scrolled": true
   },
   "outputs": [
    {
     "data": {
      "text/plain": [
       "array([[ 3.21677527, 32.36051127, 34.6695294 ],\n",
       "       [ 3.20182121, 32.76078406, 35.73083359],\n",
       "       [ 3.20182121, 32.76078406, 35.73083359],\n",
       "       [ 3.21677527, 32.36051127, 34.6695294 ],\n",
       "       [ 3.21677527, 32.36051127, 34.6695294 ],\n",
       "       [ 3.21677527, 32.36051127, 34.6695294 ],\n",
       "       [ 3.20182121, 32.76078406, 35.73083359],\n",
       "       [ 3.21677527, 32.36051127, 34.6695294 ],\n",
       "       [ 3.20182121, 32.76078406, 35.73083359],\n",
       "       [ 3.20182121, 32.76078406, 35.73083359]])"
      ]
     },
     "execution_count": 177,
     "metadata": {},
     "output_type": "execute_result"
    }
   ],
   "source": [
    "output = out_graphs[-1]\n",
    "output.nodes[:10]"
   ]
  }
 ],
 "metadata": {
  "kernelspec": {
   "display_name": "Python 3",
   "language": "python",
   "name": "python3"
  },
  "language_info": {
   "codemirror_mode": {
    "name": "ipython",
    "version": 3
   },
   "file_extension": ".py",
   "mimetype": "text/x-python",
   "name": "python",
   "nbconvert_exporter": "python",
   "pygments_lexer": "ipython3",
   "version": "3.5.2"
  }
 },
 "nbformat": 4,
 "nbformat_minor": 2
}
